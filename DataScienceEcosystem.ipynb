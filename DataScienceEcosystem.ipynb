{
 "cells": [
  {
   "cell_type": "markdown",
   "id": "d87c6d13-d95d-4bb2-8485-d4b5dd44224e",
   "metadata": {},
   "source": [
    "**Exercise 1: Create a Jupyter Notebook** "
   ]
  },
  {
   "cell_type": "markdown",
   "id": "23275898-f54b-46c5-8a12-efc49bedb510",
   "metadata": {},
   "source": [
    "**Exercise 2: Create markdown cell with title of the notebook**"
   ]
  },
  {
   "cell_type": "code",
   "execution_count": 15,
   "id": "11d44273-924f-4e6b-b5f4-7155e49e5f5b",
   "metadata": {},
   "outputs": [],
   "source": [
    "# Data Science Tools and Ecosystem"
   ]
  },
  {
   "cell_type": "markdown",
   "id": "7d2aee9d-7b8c-46ee-8418-389917cd9ab5",
   "metadata": {},
   "source": [
    "**Exercise 3 - Create a markdown cell for an introduction**"
   ]
  },
  {
   "cell_type": "markdown",
   "id": "a272932f-b8c9-4097-831d-c4c5d229fc6a",
   "metadata": {},
   "source": [
    "**Exercise 10 - Insert a markdown cell to list Objectives**"
   ]
  },
  {
   "cell_type": "markdown",
   "id": "147b89fe-06e8-4d50-bee7-3979de866998",
   "metadata": {},
   "source": [
    "In this notebook, Data Science Tools and Ecosystem are summarized."
   ]
  },
  {
   "cell_type": "markdown",
   "id": "3c0b64a3-0aea-403e-aacd-844b2da3903c",
   "metadata": {},
   "source": [
    "**Objectives:**\n",
    "1. Get familiar with the Jupyter notebook interface.\n",
    "2. List popular languages for Data Science\n",
    "3. List popular libraries for Data Science\n",
    "4. List popular tools for Data Science\n",
    "5. Bullet, Number, Tabulate and Style text in Jupyter notebooks"
   ]
  },
  {
   "cell_type": "markdown",
   "id": "a0109063-ccb7-4f7d-9cf8-a500a7caf1ea",
   "metadata": {},
   "source": [
    "**Exercise 4 - Create a markdown cell to list data science languages**"
   ]
  },
  {
   "cell_type": "markdown",
   "id": "b74c3ef7-8d09-42a7-8104-e154bfb892b1",
   "metadata": {},
   "source": [
    "Some of the commonly used libraries used by Data Scientists include:\n",
    "<br>\n",
    "Some of the popular languages that Data Scientists use are:\n",
    "1. **Python**\n",
    "   - Widely used for data analysis, machine learning, and artificial intelligence.\n",
    "   - Rich ecosystem with libraries such as Pandas, NumPy, scikit-learn, and TensorFlow.\n",
    "\n",
    "2. **R**\n",
    "   - Specialized in statistical analysis and data visualization.\n",
    "   - Strong packages for data science like ggplot2, dplyr, and caret.\n",
    "\n",
    "3. **SQL**\n",
    "   - Essential for data manipulation and querying databases.\n",
    "   - Used for retrieving, inserting, updating, and deleting data in relational databases.\n"
   ]
  },
  {
   "cell_type": "markdown",
   "id": "af526743-ea19-488e-b14e-5378026f10db",
   "metadata": {},
   "source": [
    "**Exercise 5 - Create a markdown cell to list data science libraries**"
   ]
  },
  {
   "cell_type": "markdown",
   "id": "b72b42fb-ce41-490d-8a0e-41578b8dfbf0",
   "metadata": {},
   "source": [
    "Some of the commonly used libraries used by Data Scientists include:\r\n",
    "\r\n",
    "1. **Pandas**\r\n",
    "   - A powerful data manipulation and analysis library for Python.\r\n",
    "   - Provides data structures like DataFrames to handle structured data efficiently.\r\n",
    "\r\n",
    "2. **NumPy**\r\n",
    "   - Fundamental package for numerical computing in Python.\r\n",
    "   - Supports large, multi-dimensional arrays and matrices, along with a collection of mathematical functions to operate on them.\r\n",
    "\r\n",
    "3. **scikit-learn**\r\n",
    "   - A machine learning library for Python.\r\n",
    "   - Provides simple and efficient tools for data mining and data analysis, built on NumPy, SciPy, and matplotlib.\r\n",
    "\r\n",
    "4. **TensorFlow**\r\n",
    "   - An open-source framework for machine learning and deep learning.\r\n",
    "   - Developed by Google, it offers comprehensive tools for building and deploying machine learning models.\r\n",
    "\r\n",
    "5. **ggplot2**\r\n",
    "   - A data visualization package for R.\r\n",
    "   - Based on the Grammar of Graphics, it provides a coherent system for creating complex and multi-layered graphics.\r\n"
   ]
  },
  {
   "cell_type": "markdown",
   "id": "182629c3-4fd5-4e65-8123-761a1a0b2661",
   "metadata": {},
   "source": [
    "**Exercise 6 - Create a markdown cell with a table of Data Science tools**"
   ]
  },
  {
   "cell_type": "markdown",
   "id": "782ad5ec-69eb-4745-9e2f-506bec68c2f9",
   "metadata": {},
   "source": [
    "| Data Science Tools      |\r\n",
    "|-------------------------|\r\n",
    "| Jupyter Notebook        |\r\n",
    "| RStudio                 |\r\n",
    "| Visual Studio Code            |\r\n"
   ]
  },
  {
   "cell_type": "markdown",
   "id": "455f239f-b780-4b0f-8c67-b7cbd4f78f19",
   "metadata": {},
   "source": [
    "**Exercise 7 - Create a markdown cell introducing arithmetic expression examples**"
   ]
  },
  {
   "cell_type": "markdown",
   "id": "d6f9ea9a-3e3e-41c1-9287-984b95a3e93f",
   "metadata": {},
   "source": [
    "### Below are a few examples of evaluating arithmetic expressions in Python"
   ]
  },
  {
   "cell_type": "markdown",
   "id": "8d9f06bd-03c4-4de2-9e1d-f37be5d1064e",
   "metadata": {},
   "source": [
    "**Exercise 8 - Create a code cell to multiply and add numbers**"
   ]
  },
  {
   "cell_type": "code",
   "execution_count": 16,
   "id": "a4e87e10-3390-425e-86e3-d4a1fab31298",
   "metadata": {},
   "outputs": [
    {
     "data": {
      "text/plain": [
       "17"
      ]
     },
     "execution_count": 16,
     "metadata": {},
     "output_type": "execute_result"
    }
   ],
   "source": [
    "# This is a simple arithmetic expression to multiply then add integers\n",
    "result = (3 * 4) + 5\n",
    "result"
   ]
  },
  {
   "cell_type": "markdown",
   "id": "8162e858-8e1f-435f-b841-6e697e91a37e",
   "metadata": {},
   "source": [
    "**Exercise 9 - Create a code cell to convert minutes to hours**"
   ]
  },
  {
   "cell_type": "code",
   "execution_count": 17,
   "id": "fc9714fb-2927-4645-a6ad-c7cf6f228acd",
   "metadata": {},
   "outputs": [
    {
     "data": {
      "text/plain": [
       "3.3333333333333335"
      ]
     },
     "execution_count": 17,
     "metadata": {},
     "output_type": "execute_result"
    }
   ],
   "source": [
    "# This will convert 200 minutes to hours by diving by 60\n",
    "HRConverter=200/60\n",
    "HRConverter"
   ]
  },
  {
   "cell_type": "markdown",
   "id": "d5549ac3-cac9-4e38-b7f2-974e03ad3687",
   "metadata": {},
   "source": [
    "**Exercise 11 - Create a markdown cell to indicate the Author's name **"
   ]
  },
  {
   "cell_type": "markdown",
   "id": "b3cfaf85-34a1-4f01-b073-954626a44f9b",
   "metadata": {},
   "source": [
    "## Author: \n",
    "\n",
    "Ibrahim Latif Apaassongo"
   ]
  }
 ],
 "metadata": {
  "kernelspec": {
   "display_name": "Python 3 (ipykernel)",
   "language": "python",
   "name": "python3"
  },
  "language_info": {
   "codemirror_mode": {
    "name": "ipython",
    "version": 3
   },
   "file_extension": ".py",
   "mimetype": "text/x-python",
   "name": "python",
   "nbconvert_exporter": "python",
   "pygments_lexer": "ipython3",
   "version": "3.11.7"
  }
 },
 "nbformat": 4,
 "nbformat_minor": 5
}
